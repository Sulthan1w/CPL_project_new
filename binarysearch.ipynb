{
 "cells": [
  {
   "cell_type": "code",
   "execution_count": 11,
   "id": "f8dba4fb",
   "metadata": {},
   "outputs": [
    {
     "name": "stdout",
     "output_type": "stream",
     "text": [
      "Enter the name to search1\n",
      "Contact '1' not found in the phone book.\n"
     ]
    }
   ],
   "source": [
    "def binary_search(arr, target):\n",
    "    low=0 #storing the value zero in variable low\n",
    "    high=len(arr) - 1 # store the length of array -1 \n",
    "\n",
    "    while low <= high:\n",
    "        mid = (low + high) // 2 # finding the mid element \n",
    "        \n",
    "#(“low, mid, high” represents indexes in a array, and arr[low] or arr[mid] or arr[high] represents elements of a array)\n",
    "\n",
    "        # Check if the middle element is the target which are looking for \n",
    "        if arr[mid] == target:\n",
    "            return mid\n",
    "\n",
    "        # If the target index is smaller than mid value , ignore the right half\n",
    "        elif arr[mid] > target:\n",
    "            high = mid - 1\n",
    "\n",
    "        # If the target value is larger than the mid value, ignore the left half\n",
    "        else:\n",
    "            low = mid + 1\n",
    "\n",
    "    # If the element is not present in the array\n",
    "    return -1\n",
    "\n",
    "\n",
    "def phone_book_search(contacts, name):#defining function name which takes two parameters \n",
    "    sorted_contacts = sorted(contacts)  # Sorting the contacts by name\n",
    "\n",
    "    index = binary_search(sorted_contacts, name)# binary_function returns a value which is stored in index variable\n",
    "\n",
    "    if index != -1:\n",
    "        return f\"Contact '{name}' found at index {index}.\"  #displays the contact name and its index value\n",
    "    else:\n",
    "        return f\"Contact '{name}' not found in the phone book.\" #displays the contact name as not found\n",
    "\n",
    "# Example usage\n",
    "contacts = [\"Alice\", \"Akhil\", \"Charlie\", \"David\", \"Emma\", \"Frank\", \"Grace\", \"Hannah\", \"Isaac\",\"Sulthan\"]\n",
    "search_name = input(\"Enter the name to search\") #dynamic user input \n",
    "\n",
    "result = phone_book_search(contacts, search_name)\n",
    "print(result)\n"
   ]
  },
  {
   "cell_type": "code",
   "execution_count": 10,
   "id": "e36e35aa",
   "metadata": {},
   "outputs": [
    {
     "data": {
      "text/plain": [
       "'C:\\\\Users\\\\Raziya'"
      ]
     },
     "execution_count": 10,
     "metadata": {},
     "output_type": "execute_result"
    }
   ],
   "source": [
    "pwd"
   ]
  },
  {
   "cell_type": "code",
   "execution_count": 20,
   "id": "aa69987f",
   "metadata": {},
   "outputs": [
    {
     "name": "stdout",
     "output_type": "stream",
     "text": [
      "Enter the name to search: Isaac\n",
      "1701483523.312695\n",
      "1701483523.312695\n",
      "Contact 'Isaac' found at index 8. Time taken: 0.000000 seconds.\n"
     ]
    }
   ],
   "source": [
    "import time\n",
    "\n",
    "def binary_search(arr, target):\n",
    "    low = 0\n",
    "    high = len(arr) - 1\n",
    "\n",
    "    while low <= high:\n",
    "        mid = (low + high) // 2\n",
    "\n",
    "        if arr[mid] == target:\n",
    "            return mid\n",
    "\n",
    "        elif arr[mid] > target:\n",
    "            high = mid - 1\n",
    "\n",
    "        else:\n",
    "            low = mid + 1\n",
    "\n",
    "    return -1\n",
    "\n",
    "def phone_book_search(contacts, name):\n",
    "    sorted_contacts = sorted(contacts)\n",
    "\n",
    "    # Measure start time\n",
    "    start_time = time.time()\n",
    "    print(f'{start_time:.6f}')\n",
    "\n",
    "    index = binary_search(sorted_contacts, name)\n",
    "\n",
    "    # Measure end time\n",
    "    end_time = time.time()\n",
    "    print(f'{end_time:.6f}')\n",
    "\n",
    "    if index != -1:\n",
    "        return f\"Contact '{name}' found at index {index}. Time taken: {end_time - start_time:.6f} seconds.\"\n",
    "    else:\n",
    "        return f\"Contact '{name}' not found in the phone book. Time taken: {end_time - start_time:.6f} seconds.\"\n",
    "\n",
    "# Example usage\n",
    "contacts = [\"Alice\", \"Akhil\", \"Charlie\", \"David\", \"Emma\", \"Frank\", \"Grace\", \"Hannah\", \"Isaac\", \"Sulthan\"]\n",
    "search_name = input(\"Enter the name to search: \")\n",
    "\n",
    "result = phone_book_search(contacts, search_name)\n",
    "print(result)\n"
   ]
  },
  {
   "cell_type": "code",
   "execution_count": 28,
   "id": "1844a202",
   "metadata": {},
   "outputs": [
    {
     "name": "stdout",
     "output_type": "stream",
     "text": [
      "Enter the name to search1\n",
      "Contact '1' not found in the phone book.\n"
     ]
    }
   ],
   "source": [
    "def binary_search(arr, target):\n",
    "    low=0 #storing the value zero in variable low\n",
    "    high=len(arr) - 1 # store the length of array -1 \n",
    "\n",
    "    while low <= high:\n",
    "        mid = (low + high) // 2 # finding the mid element \n",
    "        \n",
    "#(“low, mid, high” represents indexes in a array, and arr[low] or arr[mid] or arr[high] represents elements of a array)\n",
    "\n",
    "        # Check if the middle element is the target which are looking for \n",
    "        if arr[mid] == target:\n",
    "            return mid\n",
    "\n",
    "        # If the target index is smaller than mid value , ignore the right half\n",
    "        elif arr[mid] > target:\n",
    "            high = mid - 1\n",
    "\n",
    "        # If the target value is larger than the mid value, ignore the left half\n",
    "        else:\n",
    "            low = mid + 1\n",
    "\n",
    "    # If the element is not present in the array\n",
    "    return -1\n",
    "\n",
    "\n",
    "def phone_book_search(contacts, name):#defining function name which takes two parameters \n",
    "    if isinstance(name, str): #checking if entered input is string or not\n",
    "        sorted_contacts = sorted(contacts)  # Sorting the contacts by name\n",
    "        index = binary_search(sorted_contacts, name)# binary_function returns a value which is stored in index variable\n",
    "        if index != -1:\n",
    "            return f\"Contact '{name}' found at index {index}.\"  #displays the contact name and its index value\n",
    "        else:\n",
    "            return f\"Contact '{name}' not found in the phone book.\" #displays the contact name as not found\n",
    "    else:\n",
    "        print(\"please Enter valid name\")\n",
    "\n",
    "# Example usage\n",
    "contacts = [\"Alice\", \"Akhil\", \"Charlie\", \"David\", \"Emma\", \"Frank\", \"Grace\", \"Hannah\", \"Isaac\",\"Sulthan\"]\n",
    "search_name = input(\"Enter the name to search\") #dynamic user input \n",
    "\n",
    "result = phone_book_search(contacts, search_name)\n",
    "print(result)\n"
   ]
  },
  {
   "cell_type": "code",
   "execution_count": null,
   "id": "1c7470fa",
   "metadata": {},
   "outputs": [],
   "source": []
  },
  {
   "cell_type": "code",
   "execution_count": null,
   "id": "62ce1cf2",
   "metadata": {},
   "outputs": [],
   "source": []
  }
 ],
 "metadata": {
  "kernelspec": {
   "display_name": "Python 3 (ipykernel)",
   "language": "python",
   "name": "python3"
  },
  "language_info": {
   "codemirror_mode": {
    "name": "ipython",
    "version": 3
   },
   "file_extension": ".py",
   "mimetype": "text/x-python",
   "name": "python",
   "nbconvert_exporter": "python",
   "pygments_lexer": "ipython3",
   "version": "3.11.1"
  }
 },
 "nbformat": 4,
 "nbformat_minor": 5
}
